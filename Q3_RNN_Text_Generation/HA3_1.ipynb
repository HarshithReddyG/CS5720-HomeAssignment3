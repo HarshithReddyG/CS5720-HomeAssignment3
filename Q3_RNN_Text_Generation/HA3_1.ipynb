{
  "nbformat": 4,
  "nbformat_minor": 0,
  "metadata": {
    "colab": {
      "provenance": [],
      "gpuType": "T4"
    },
    "kernelspec": {
      "name": "python3",
      "display_name": "Python 3"
    },
    "language_info": {
      "name": "python"
    },
    "accelerator": "GPU"
  },
  "cells": [
    {
      "cell_type": "markdown",
      "source": [
        "Q3: Implementing an RNN for Text Generation using\n",
        "\n",
        "Step 1: Import necessary libraries"
      ],
      "metadata": {
        "id": "OQA2Ea4-9orl"
      }
    },
    {
      "cell_type": "code",
      "source": [
        "import numpy as np\n",
        "import tensorflow as tf\n",
        "from tensorflow.keras.models import Sequential\n",
        "from tensorflow.keras.layers import LSTM, Dense, Embedding\n",
        "import random\n",
        "import sys"
      ],
      "metadata": {
        "id": "mXTTH3s19ppz"
      },
      "execution_count": 1,
      "outputs": []
    },
    {
      "cell_type": "markdown",
      "source": [
        "Step 2: Load Shakespeare dataset from TensorFlow\n",
        "\n",
        "Step 3: Preprocess the text\n",
        "\n",
        "Step 4: Create input sequences and targets"
      ],
      "metadata": {
        "id": "kE_Ou0zI9uNe"
      }
    },
    {
      "cell_type": "code",
      "source": [
        "path_to_file = tf.keras.utils.get_file('shakespeare.txt',\n",
        "    'https://storage.googleapis.com/download.tensorflow.org/data/shakespeare.txt')\n",
        "text = open(path_to_file, 'rb').read().decode(encoding='utf-8')\n",
        "\n",
        "\n",
        "vocab = sorted(set(text))\n",
        "char2idx = {char: idx for idx, char in enumerate(vocab)}\n",
        "idx2char = np.array(vocab)\n",
        "text_as_int = np.array([char2idx[c] for c in text])\n",
        "\n",
        "\n",
        "seq_length = 100\n",
        "examples_per_epoch = len(text) // (seq_length + 1)\n",
        "\n",
        "char_dataset = tf.data.Dataset.from_tensor_slices(text_as_int)\n",
        "sequences = char_dataset.batch(seq_length + 1, drop_remainder=True)\n",
        "\n",
        "def split_input_target(chunk):\n",
        "    input_text = chunk[:-1]\n",
        "    target_text = chunk[1:]\n",
        "    return input_text, target_text\n",
        "\n",
        "dataset = sequences.map(split_input_target)"
      ],
      "metadata": {
        "colab": {
          "base_uri": "https://localhost:8080/"
        },
        "id": "5ighvGYg9vP6",
        "outputId": "c640db6f-2297-41fd-ac12-bfbb08c50da5"
      },
      "execution_count": 2,
      "outputs": [
        {
          "output_type": "stream",
          "name": "stdout",
          "text": [
            "Downloading data from https://storage.googleapis.com/download.tensorflow.org/data/shakespeare.txt\n",
            "\u001b[1m1115394/1115394\u001b[0m \u001b[32m━━━━━━━━━━━━━━━━━━━━\u001b[0m\u001b[37m\u001b[0m \u001b[1m1s\u001b[0m 1us/step\n"
          ]
        }
      ]
    },
    {
      "cell_type": "markdown",
      "source": [
        "Step 5: Prepare the data for training\n",
        "\n",
        "Step 6: Define the model\n",
        "\n",
        "Step 7: Compile and train"
      ],
      "metadata": {
        "id": "I1yj7aAe9zTi"
      }
    },
    {
      "cell_type": "code",
      "source": [
        "BATCH_SIZE = 64\n",
        "BUFFER_SIZE = 10000\n",
        "dataset = dataset.shuffle(BUFFER_SIZE).batch(BATCH_SIZE, drop_remainder=True)\n",
        "\n",
        "vocab_size = len(vocab)\n",
        "embedding_dim = 256\n",
        "rnn_units = 512\n",
        "\n",
        "model = Sequential([\n",
        "    Embedding(vocab_size, embedding_dim),\n",
        "    LSTM(rnn_units, return_sequences=True),\n",
        "    Dense(vocab_size)\n",
        "])\n",
        "\n",
        "# Build the model with batch size\n",
        "model.build(input_shape=(BATCH_SIZE, None))\n",
        "\n",
        "model.compile(optimizer='adam', loss=tf.keras.losses.SparseCategoricalCrossentropy(from_logits=True))\n",
        "model.fit(dataset, epochs=5)"
      ],
      "metadata": {
        "colab": {
          "base_uri": "https://localhost:8080/"
        },
        "id": "zTslOsVg90BW",
        "outputId": "eeded2ba-1216-4809-9302-b31a482092dd"
      },
      "execution_count": 3,
      "outputs": [
        {
          "output_type": "stream",
          "name": "stdout",
          "text": [
            "Epoch 1/5\n",
            "\u001b[1m172/172\u001b[0m \u001b[32m━━━━━━━━━━━━━━━━━━━━\u001b[0m\u001b[37m\u001b[0m \u001b[1m9s\u001b[0m 27ms/step - loss: 2.9029\n",
            "Epoch 2/5\n",
            "\u001b[1m172/172\u001b[0m \u001b[32m━━━━━━━━━━━━━━━━━━━━\u001b[0m\u001b[37m\u001b[0m \u001b[1m11s\u001b[0m 28ms/step - loss: 1.9547\n",
            "Epoch 3/5\n",
            "\u001b[1m172/172\u001b[0m \u001b[32m━━━━━━━━━━━━━━━━━━━━\u001b[0m\u001b[37m\u001b[0m \u001b[1m8s\u001b[0m 25ms/step - loss: 1.7203\n",
            "Epoch 4/5\n",
            "\u001b[1m172/172\u001b[0m \u001b[32m━━━━━━━━━━━━━━━━━━━━\u001b[0m\u001b[37m\u001b[0m \u001b[1m6s\u001b[0m 25ms/step - loss: 1.5882\n",
            "Epoch 5/5\n",
            "\u001b[1m172/172\u001b[0m \u001b[32m━━━━━━━━━━━━━━━━━━━━\u001b[0m\u001b[37m\u001b[0m \u001b[1m6s\u001b[0m 26ms/step - loss: 1.5117\n"
          ]
        },
        {
          "output_type": "execute_result",
          "data": {
            "text/plain": [
              "<keras.src.callbacks.history.History at 0x7d39f09a8850>"
            ]
          },
          "metadata": {},
          "execution_count": 3
        }
      ]
    },
    {
      "cell_type": "markdown",
      "source": [
        "Step 8: Text generation function\n",
        "\n",
        "Step 9: Generate and display text"
      ],
      "metadata": {
        "id": "aRBXOTTi96e3"
      }
    },
    {
      "cell_type": "code",
      "source": [
        "def generate_text(model, start_string, temperature=1.0):\n",
        "    temp_model = Sequential([\n",
        "        Embedding(vocab_size, embedding_dim),\n",
        "        LSTM(rnn_units, return_sequences=True, stateful=True), # Make LSTM stateful\n",
        "        Dense(vocab_size)\n",
        "    ])\n",
        "    temp_model.build(tf.TensorShape([1, None]))\n",
        "    temp_model.set_weights(model.get_weights())\n",
        "\n",
        "    input_eval = [char2idx[s] for s in start_string]\n",
        "    input_eval = tf.expand_dims(input_eval, 0)\n",
        "    text_generated = []\n",
        "\n",
        "    # Get the LSTM layer from the temp_model\n",
        "    lstm_layer = temp_model.layers[1]\n",
        "\n",
        "    # Reset the state of the LSTM layer\n",
        "    lstm_layer.reset_states()\n",
        "\n",
        "    for i in range(200):\n",
        "        predictions = temp_model(input_eval)\n",
        "        predictions = tf.squeeze(predictions, 0)\n",
        "        predictions = predictions / temperature\n",
        "        predicted_id = tf.random.categorical(predictions, num_samples=1)[-1, 0].numpy()\n",
        "\n",
        "        input_eval = tf.expand_dims([predicted_id], 0)\n",
        "        text_generated.append(idx2char[predicted_id])\n",
        "\n",
        "    return start_string + ''.join(text_generated)\n",
        "\n",
        "print(\"\\nGenerated Text Sample:\")\n",
        "print(generate_text(model, start_string=\"To be, or not to be\", temperature=0.2))\n",
        "\n",
        "print(\"\\nGenerated Text Sample:\")\n",
        "print(generate_text(model, start_string=\"To be, or not to be\", temperature=0.8))"
      ],
      "metadata": {
        "colab": {
          "base_uri": "https://localhost:8080/"
        },
        "id": "2Hg5zphX99CH",
        "outputId": "42b0cbe7-de1e-4114-d5ea-d96860c40b2c"
      },
      "execution_count": 4,
      "outputs": [
        {
          "output_type": "stream",
          "name": "stdout",
          "text": [
            "\n",
            "Generated Text Sample:\n",
            "To be, or not to be the more.\n",
            "\n",
            "CORIOLANUS:\n",
            "What is the more than the world and the company.\n",
            "\n",
            "PRINCE EDWARD:\n",
            "What is the beat of the people to him.\n",
            "\n",
            "MENENIUS:\n",
            "What is the seatest the world of a country,\n",
            "And we have been \n",
            "\n",
            "Generated Text Sample:\n",
            "To be, or not to be,\n",
            "But sees my born in this purisors too pleash:\n",
            "And, you most made! I home one op!\n",
            "\n",
            "CAPETLER:\n",
            "If I see her a pentle parther, Deare and king I, foor gro,\n",
            "When he do ever no good more graves,\n",
            "Who dow ma\n"
          ]
        }
      ]
    }
  ]
}