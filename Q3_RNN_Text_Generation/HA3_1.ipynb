{
  "nbformat": 4,
  "nbformat_minor": 0,
  "metadata": {
    "colab": {
      "provenance": [],
      "gpuType": "T4"
    },
    "kernelspec": {
      "name": "python3",
      "display_name": "Python 3"
    },
    "language_info": {
      "name": "python"
    },
    "accelerator": "GPU"
  },
  "cells": [
    {
      "cell_type": "markdown",
      "source": [
        "# Q3: Implementing an RNN for Text Generation using LSTM"
      ],
      "metadata": {
        "id": "cVA4GgFZdWFW"
      }
    },
    {
      "cell_type": "markdown",
      "source": [
        "Step 1: Import necessary libraries"
      ],
      "metadata": {
        "id": "JGmCjIlKdXXY"
      }
    },
    {
      "cell_type": "code",
      "source": [
        "import numpy as np\n",
        "import tensorflow as tf\n",
        "from tensorflow.keras.models import Sequential\n",
        "from tensorflow.keras.layers import LSTM, Dense, Embedding\n",
        "import random\n",
        "import sys"
      ],
      "metadata": {
        "id": "CNQq9Y9_dVyf"
      },
      "execution_count": 9,
      "outputs": []
    },
    {
      "cell_type": "markdown",
      "source": [
        "Step 2: Load Shakespeare dataset from TensorFlow\n",
        "\n",
        "Step 3: Preprocess the text\n",
        "\n",
        "Step 4: Create input sequences and targets"
      ],
      "metadata": {
        "id": "DwMdTj5reo9P"
      }
    },
    {
      "cell_type": "code",
      "source": [
        "path_to_file = tf.keras.utils.get_file('shakespeare.txt',\n",
        "    'https://storage.googleapis.com/download.tensorflow.org/data/shakespeare.txt')\n",
        "text = open(path_to_file, 'rb').read().decode(encoding='utf-8')\n",
        "\n",
        "\n",
        "vocab = sorted(set(text))\n",
        "char2idx = {char: idx for idx, char in enumerate(vocab)}\n",
        "idx2char = np.array(vocab)\n",
        "text_as_int = np.array([char2idx[c] for c in text])\n",
        "\n",
        "\n",
        "seq_length = 100\n",
        "examples_per_epoch = len(text) // (seq_length + 1)\n",
        "\n",
        "char_dataset = tf.data.Dataset.from_tensor_slices(text_as_int)\n",
        "sequences = char_dataset.batch(seq_length + 1, drop_remainder=True)\n",
        "\n",
        "def split_input_target(chunk):\n",
        "    input_text = chunk[:-1]\n",
        "    target_text = chunk[1:]\n",
        "    return input_text, target_text\n",
        "\n",
        "dataset = sequences.map(split_input_target)"
      ],
      "metadata": {
        "id": "E6MfJCmLetgq"
      },
      "execution_count": 15,
      "outputs": []
    },
    {
      "cell_type": "markdown",
      "source": [
        "Step 5: Prepare the data for training\n",
        "\n",
        "Step 6: Define the model\n",
        "\n",
        "Step 7: Compile and train"
      ],
      "metadata": {
        "id": "grW-WS4zeyDA"
      }
    },
    {
      "cell_type": "code",
      "source": [
        "BATCH_SIZE = 64\n",
        "BUFFER_SIZE = 10000\n",
        "dataset = dataset.shuffle(BUFFER_SIZE).batch(BATCH_SIZE, drop_remainder=True)\n",
        "\n",
        "vocab_size = len(vocab)\n",
        "embedding_dim = 256\n",
        "rnn_units = 512\n",
        "\n",
        "model = Sequential([\n",
        "    Embedding(vocab_size, embedding_dim),\n",
        "    LSTM(rnn_units, return_sequences=True),\n",
        "    Dense(vocab_size)\n",
        "])\n",
        "\n",
        "# Build the model with batch size\n",
        "model.build(input_shape=(BATCH_SIZE, None))\n",
        "\n",
        "model.compile(optimizer='adam', loss=tf.keras.losses.SparseCategoricalCrossentropy(from_logits=True))\n",
        "model.fit(dataset, epochs=5)"
      ],
      "metadata": {
        "colab": {
          "base_uri": "https://localhost:8080/"
        },
        "id": "8b0g7pwFe3MK",
        "outputId": "cd0012ff-8054-492c-80e3-7cf02732b38f"
      },
      "execution_count": 16,
      "outputs": [
        {
          "output_type": "stream",
          "name": "stdout",
          "text": [
            "Epoch 1/5\n",
            "\u001b[1m172/172\u001b[0m \u001b[32m━━━━━━━━━━━━━━━━━━━━\u001b[0m\u001b[37m\u001b[0m \u001b[1m9s\u001b[0m 26ms/step - loss: 3.0140\n",
            "Epoch 2/5\n",
            "\u001b[1m172/172\u001b[0m \u001b[32m━━━━━━━━━━━━━━━━━━━━\u001b[0m\u001b[37m\u001b[0m \u001b[1m6s\u001b[0m 26ms/step - loss: 2.0301\n",
            "Epoch 3/5\n",
            "\u001b[1m172/172\u001b[0m \u001b[32m━━━━━━━━━━━━━━━━━━━━\u001b[0m\u001b[37m\u001b[0m \u001b[1m6s\u001b[0m 27ms/step - loss: 1.7790\n",
            "Epoch 4/5\n",
            "\u001b[1m172/172\u001b[0m \u001b[32m━━━━━━━━━━━━━━━━━━━━\u001b[0m\u001b[37m\u001b[0m \u001b[1m6s\u001b[0m 27ms/step - loss: 1.6425\n",
            "Epoch 5/5\n",
            "\u001b[1m172/172\u001b[0m \u001b[32m━━━━━━━━━━━━━━━━━━━━\u001b[0m\u001b[37m\u001b[0m \u001b[1m9s\u001b[0m 27ms/step - loss: 1.5592\n"
          ]
        },
        {
          "output_type": "execute_result",
          "data": {
            "text/plain": [
              "<keras.src.callbacks.history.History at 0x7dbc43eafa10>"
            ]
          },
          "metadata": {},
          "execution_count": 16
        }
      ]
    },
    {
      "cell_type": "markdown",
      "source": [
        "Step 8: Text generation function\n",
        "\n",
        "Step 9: Generate and display text"
      ],
      "metadata": {
        "id": "WvuqOsWxe8ID"
      }
    },
    {
      "cell_type": "code",
      "source": [
        "def generate_text(model, start_string, temperature=1.0):\n",
        "    temp_model = Sequential([\n",
        "        Embedding(vocab_size, embedding_dim),\n",
        "        LSTM(rnn_units, return_sequences=True, stateful=True), # Make LSTM stateful\n",
        "        Dense(vocab_size)\n",
        "    ])\n",
        "    temp_model.build(tf.TensorShape([1, None]))\n",
        "    temp_model.set_weights(model.get_weights())\n",
        "\n",
        "    input_eval = [char2idx[s] for s in start_string]\n",
        "    input_eval = tf.expand_dims(input_eval, 0)\n",
        "    text_generated = []\n",
        "\n",
        "    # Get the LSTM layer from the temp_model\n",
        "    lstm_layer = temp_model.layers[1]\n",
        "\n",
        "    # Reset the state of the LSTM layer\n",
        "    lstm_layer.reset_states()\n",
        "\n",
        "    for i in range(200):\n",
        "        predictions = temp_model(input_eval)\n",
        "        predictions = tf.squeeze(predictions, 0)\n",
        "        predictions = predictions / temperature\n",
        "        predicted_id = tf.random.categorical(predictions, num_samples=1)[-1, 0].numpy()\n",
        "\n",
        "        input_eval = tf.expand_dims([predicted_id], 0)\n",
        "        text_generated.append(idx2char[predicted_id])\n",
        "\n",
        "    return start_string + ''.join(text_generated)\n",
        "\n",
        "print(\"\\nGenerated Text Sample:\")\n",
        "print(generate_text(model, start_string=\"To be, or not to be\", temperature=0.8))\n",
        "\n",
        "print(\"\\nGenerated Text Sample:\")\n",
        "print(generate_text(model, start_string=\"To be, or not to be\", temperature=0.8))"
      ],
      "metadata": {
        "colab": {
          "base_uri": "https://localhost:8080/"
        },
        "id": "IaKld7NSfCEQ",
        "outputId": "1baa5bb3-0d3b-487a-f028-fe503d1661fe"
      },
      "execution_count": 19,
      "outputs": [
        {
          "output_type": "stream",
          "name": "stdout",
          "text": [
            "\n",
            "Generated Text Sample:\n",
            "To be, or not to be dimble thie out hold;\n",
            "Where it we methal a parter and Nothing wrywing,\n",
            "Adainly from chomasion's discose to-mar?\n",
            "\n",
            "POMPEY:\n",
            "'Tis a good lies:\n",
            "I have seed sorrow's meet it well.\n",
            "\n",
            "MENENIUS:\n",
            "That a deaple \n",
            "\n",
            "Generated Text Sample:\n",
            "To be, or not to be my purplise?\n",
            "Speak, one elther Vanise, there I seeliven\n",
            "no more, how do he did for that the mowers.\n",
            "\n",
            "HEBROTHS:\n",
            "Pisty to her; yet thick the friend wither do.\n",
            "\n",
            "ANISAL:\n",
            "Sir, you shall I mare thy musters\n"
          ]
        }
      ]
    }
  ]
}