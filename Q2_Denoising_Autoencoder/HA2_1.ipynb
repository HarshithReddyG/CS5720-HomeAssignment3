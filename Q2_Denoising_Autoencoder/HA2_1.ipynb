{
  "nbformat": 4,
  "nbformat_minor": 0,
  "metadata": {
    "colab": {
      "provenance": [],
      "gpuType": "T4"
    },
    "kernelspec": {
      "name": "python3",
      "display_name": "Python 3"
    },
    "language_info": {
      "name": "python"
    },
    "accelerator": "GPU"
  },
  "cells": [
    {
      "cell_type": "markdown",
      "source": [
        "# Q2: Implementing a Denoising Autoencoder\n",
        "\n",
        "Task: Build a denoising autoencoder to reconstruct clean MNIST images from noisy inputs"
      ],
      "metadata": {
        "id": "5vnYjteZbzd5"
      }
    },
    {
      "cell_type": "markdown",
      "source": [
        "Step 1: Import necessary libraries"
      ],
      "metadata": {
        "id": "PW8jBXKhb33p"
      }
    },
    {
      "cell_type": "code",
      "source": [
        "import numpy as np\n",
        "import matplotlib.pyplot as plt\n",
        "import tensorflow as tf\n",
        "from tensorflow.keras.datasets import mnist\n",
        "from tensorflow.keras.models import Model\n",
        "from tensorflow.keras.layers import Input, Dense"
      ],
      "metadata": {
        "id": "FcDJ-ATsb1z4"
      },
      "execution_count": 1,
      "outputs": []
    },
    {
      "cell_type": "markdown",
      "source": [
        "Step 2: Load the MNIST dataset"
      ],
      "metadata": {
        "id": "VgAWug9xb5-A"
      }
    },
    {
      "cell_type": "code",
      "source": [
        "(x_train, _), (x_test, _) = mnist.load_data()"
      ],
      "metadata": {
        "colab": {
          "base_uri": "https://localhost:8080/"
        },
        "id": "nl8gBqg_b7RH",
        "outputId": "9b757799-bcb0-4b9b-9fee-a4e2bfcf8575"
      },
      "execution_count": 2,
      "outputs": [
        {
          "output_type": "stream",
          "name": "stdout",
          "text": [
            "Downloading data from https://storage.googleapis.com/tensorflow/tf-keras-datasets/mnist.npz\n",
            "\u001b[1m11490434/11490434\u001b[0m \u001b[32m━━━━━━━━━━━━━━━━━━━━\u001b[0m\u001b[37m\u001b[0m \u001b[1m0s\u001b[0m 0us/step\n"
          ]
        }
      ]
    },
    {
      "cell_type": "markdown",
      "source": [
        "Step 3: Normalize and reshape the data"
      ],
      "metadata": {
        "id": "TrPyOmb-b89L"
      }
    },
    {
      "cell_type": "code",
      "source": [
        "x_train = x_train.astype('float32') / 255.\n",
        "x_test = x_test.astype('float32') / 255.\n",
        "x_train = x_train.reshape((len(x_train), 784))\n",
        "x_test = x_test.reshape((len(x_test), 784))"
      ],
      "metadata": {
        "id": "yoaQTPUrb-RU"
      },
      "execution_count": 3,
      "outputs": []
    },
    {
      "cell_type": "markdown",
      "source": [
        "Step 4: Add Gaussian noise (mean=0, std=0.5) to the input images"
      ],
      "metadata": {
        "id": "kBumiKSCcBLx"
      }
    },
    {
      "cell_type": "code",
      "source": [
        "noise_factor = 0.5\n",
        "x_train_noisy = x_train + noise_factor * np.random.normal(loc=0.0, scale=1.0, size=x_train.shape)\n",
        "x_test_noisy = x_test + noise_factor * np.random.normal(loc=0.0, scale=1.0, size=x_test.shape)"
      ],
      "metadata": {
        "id": "vrbMzqD8cBmk"
      },
      "execution_count": 4,
      "outputs": []
    },
    {
      "cell_type": "markdown",
      "source": [
        "Clip pixel values to be between 0 and 1"
      ],
      "metadata": {
        "id": "wzpqbVgacEzy"
      }
    },
    {
      "cell_type": "code",
      "source": [
        "x_train_noisy = np.clip(x_train_noisy, 0., 1.)\n",
        "x_test_noisy = np.clip(x_test_noisy, 0., 1.)"
      ],
      "metadata": {
        "id": "F92qLv8ucFOE"
      },
      "execution_count": 5,
      "outputs": []
    },
    {
      "cell_type": "markdown",
      "source": [
        "Step 5: Define the denoising autoencoder model"
      ],
      "metadata": {
        "id": "8NGo023ycHF3"
      }
    },
    {
      "cell_type": "code",
      "source": [
        "input_img = Input(shape=(784,))\n",
        "encoded = Dense(32, activation='relu')(input_img)\n",
        "decoded = Dense(784, activation='sigmoid')(encoded)\n",
        "denoising_autoencoder = Model(input_img, decoded)"
      ],
      "metadata": {
        "id": "FL_ldtZKcMWn"
      },
      "execution_count": 6,
      "outputs": []
    },
    {
      "cell_type": "markdown",
      "source": [
        "Step 6: Compile the model\n",
        "\n",
        "Note: Input is noisy, but target is clean\n",
        "\n",
        "Step 7: Train the model\n",
        "\n",
        "Step 8: Predict on noisy test images"
      ],
      "metadata": {
        "id": "DvQJDglScIe9"
      }
    },
    {
      "cell_type": "code",
      "source": [
        "denoising_autoencoder.compile(optimizer='adam', loss='binary_crossentropy')\n",
        "\n",
        "\n",
        "history = denoising_autoencoder.fit(x_train_noisy, x_train,\n",
        "                                    epochs=10,\n",
        "                                    batch_size=256,\n",
        "                                    shuffle=True,\n",
        "                                    validation_data=(x_test_noisy, x_test),\n",
        "                                    verbose=0)\n",
        "\n",
        "decoded_imgs = denoising_autoencoder.predict(x_test_noisy)"
      ],
      "metadata": {
        "colab": {
          "base_uri": "https://localhost:8080/"
        },
        "id": "En4VMmvAcM__",
        "outputId": "21224e61-f9b7-41ed-989c-000702fb82a4"
      },
      "execution_count": 7,
      "outputs": [
        {
          "output_type": "stream",
          "name": "stdout",
          "text": [
            "\u001b[1m313/313\u001b[0m \u001b[32m━━━━━━━━━━━━━━━━━━━━\u001b[0m\u001b[37m\u001b[0m \u001b[1m1s\u001b[0m 2ms/step\n"
          ]
        }
      ]
    },
    {
      "cell_type": "markdown",
      "source": [
        "Step 9: Plot noisy vs reconstructed images"
      ],
      "metadata": {
        "id": "2CUi5_jqcaJ6"
      }
    },
    {
      "cell_type": "code",
      "source": [
        "n = 5  # number of images to display\n",
        "plt.figure(figsize=(10, 4))\n",
        "for i in range(n):\n",
        "    # Noisy image\n",
        "    ax = plt.subplot(2, n, i + 1)\n",
        "    plt.imshow(x_test_noisy[i].reshape(28, 28), cmap='gray')\n",
        "    plt.title(\"Noisy\")\n",
        "    plt.axis('off')\n",
        "\n",
        "    # Reconstructed (denoised) image\n",
        "    ax = plt.subplot(2, n, i + 1 + n)\n",
        "    plt.imshow(decoded_imgs[i].reshape(28, 28), cmap='gray')\n",
        "    plt.title(\"Denoised\")\n",
        "    plt.axis('off')\n",
        "plt.suptitle(\"Denoising Autoencoder Results\")\n",
        "plt.tight_layout()\n",
        "plt.show()"
      ],
      "metadata": {
        "colab": {
          "base_uri": "https://localhost:8080/",
          "height": 413
        },
        "id": "g52kPJWQcavL",
        "outputId": "48e4a517-c2ae-451b-ccb6-6bfa87046ebf"
      },
      "execution_count": 8,
      "outputs": [
        {
          "output_type": "display_data",
          "data": {
            "text/plain": [
              "<Figure size 1000x400 with 10 Axes>"
            ],
            "image/png": "[encoded data removed]"
          },
          "metadata": {}
        }
      ]
    }
  ]
}